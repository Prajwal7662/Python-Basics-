{
  "nbformat": 4,
  "nbformat_minor": 0,
  "metadata": {
    "colab": {
      "provenance": []
    },
    "kernelspec": {
      "name": "python3",
      "display_name": "Python 3"
    },
    "language_info": {
      "name": "python"
    }
  },
  "cells": [
    {
      "cell_type": "markdown",
      "source": [
        "### Python Basics"
      ],
      "metadata": {
        "id": "5KXmzW2YgJBk"
      }
    },
    {
      "cell_type": "markdown",
      "source": [
        "1.What is Python, and why is it popular?\n",
        "  - Python is a high-level, interpreted programming language known for its simplicity and readability\n",
        "  Here are a few reasons why Python is so popular:\n",
        "  Ease of Learning\n",
        "  Large Community\n",
        "  Strong Support for Integration\n",
        "\n",
        "2.What is an interpreter in Python?  \n",
        "  - An interpreter in Python is a program that executes Python code line by line.\n",
        "\n",
        "3.What are pre-defined keywords in Python?\n",
        "  - Pre-defined keywords in Python are reserved words that have special meanings and cannot be used as identifiers (like variable names, function names, etc.). These keywords are part of the Python language syntax and are used to define the structure and flow of the code.  \n",
        "\n",
        "4.Can keywords be used as variable names?\n",
        "  - No, keywords in Python cannot be used as variable names.\n",
        "\n",
        "5.What is mutability in Python?\n",
        "   - Mutability in Python refers to the ability of an object to be changed after it has been created. In other words, mutable objects can be modified, while immutable objects cannot be changed once they are created.\n",
        "\n",
        "Here are some key points about mutability in Python:\n",
        "\n",
        "Mutable Objects\n",
        "Lists: You can change, add, or remove elements.\n",
        "\n",
        "Dictionaries: You can add, modify, or delete key-value pairs.\n",
        "\n",
        "Sets: You can add or remove elements.\n",
        "\n",
        "6.Why are lists mutable, but tuples are immutable?\n",
        "  - Lists are mutable, meaning you can change their elements after creation. Tuples are immutable, meaning their elements cannot be changed once created. This design choice allows lists to be flexible and dynamic, while tuples provide stability and performance optimizations.\n",
        "\n",
        "7.What is the difference between “==” and “is” operators in Python?\n",
        "  -  == checks if the values are equal, while is checks if the objects are the same instance in memory.\n",
        "\n",
        "8.What are logical operators in Python?\n",
        "  - Logical operators in Python are used to combine conditional statements\n",
        "  and: Returns True if both statements are true.\n",
        "  or: Returns True if at least one of the statements is true.\n",
        "  not: Reverses the result, returns False if the result is true.\n",
        "\n",
        "9.What is type casting in Python?\n",
        "  - Type casting in Python refers to converting one data type into another. This is useful when you need to perform operations that require a specific data type\n",
        "\n",
        "10.What is the difference between implicit and explicit type casting?\n",
        "  - Implicit type casting is done automatically by Python, while explicit type casting requires the programmer to specify the conversion\n",
        "\n",
        "11.What is the purpose of conditional statements in Python?\n",
        "  - Conditional statements in Python are used to execute different blocks of code based on certain conditions. They allow your program to make decisions and perform actions accordingly. The primary conditional statements in Python are if, elif, and else.\n",
        "\n",
        "12.How does the elif statement work?\n",
        "  - The elif statement in Python is short for \"else if.\" It allows you to check multiple conditions in a sequence. If the first if condition is not met, the program moves on to the elif condition\n",
        "\n",
        "13.What is the difference between for and while loops?\n",
        "  - Use a for loop when you know the number of iterations in advance, and use a while loop when the number of iterations depends on a condition  \n",
        "\n",
        "14.Describe a scenario where a while loop is more suitable than a for loop.\n",
        "  - A while loop is more suitable than a for loop when the number of iterations is not known in advance and depends on a condition being met\n"
      ],
      "metadata": {
        "id": "jqmVqmx-gdZt"
      }
    },
    {
      "cell_type": "code",
      "execution_count": 1,
      "metadata": {
        "colab": {
          "base_uri": "https://localhost:8080/",
          "height": 36
        },
        "id": "3B3Cdp7rfks-",
        "outputId": "75bf182d-aca3-444e-e805-60e5a2ead581"
      },
      "outputs": [
        {
          "output_type": "execute_result",
          "data": {
            "text/plain": [
              "'\\nprint(\"Hello, World!\")\\n\\n'"
            ],
            "application/vnd.google.colaboratory.intrinsic+json": {
              "type": "string"
            }
          },
          "metadata": {},
          "execution_count": 1
        }
      ],
      "source": [
        "# Write a Python program to print \"Hello, World!\"\n",
        "'''\n",
        "print(\"Hello, World!\")\n",
        "\n",
        "'''"
      ]
    },
    {
      "cell_type": "code",
      "source": [
        "#Write a Python program that displays your name and age.\n",
        "'''\n",
        "name = \"Your Name\"\n",
        "age = 25\n",
        "\n",
        "print(\"Name:\", name)\n",
        "print(\"Age:\", age)\n",
        "\n",
        "'''"
      ],
      "metadata": {
        "colab": {
          "base_uri": "https://localhost:8080/",
          "height": 36
        },
        "id": "MT0xpTyZmu24",
        "outputId": "ec958935-d93e-43e5-e771-52f3cf5d99cf"
      },
      "execution_count": 2,
      "outputs": [
        {
          "output_type": "execute_result",
          "data": {
            "text/plain": [
              "'\\nname = \"Your Name\"\\nage = 25\\n\\nprint(\"Name:\", name)\\nprint(\"Age:\", age)\\n\\n'"
            ],
            "application/vnd.google.colaboratory.intrinsic+json": {
              "type": "string"
            }
          },
          "metadata": {},
          "execution_count": 2
        }
      ]
    },
    {
      "cell_type": "code",
      "source": [
        "#Write code to print all the pre-defined keywords in Python using the keyword library\n",
        "'''\n",
        "import keyword\n",
        "\n",
        "# Print all the keywords\n",
        "print(\"Python Keywords:\")\n",
        "for kw in keyword.kwlist:\n",
        "    print(kw)\n",
        "\n",
        "'''"
      ],
      "metadata": {
        "colab": {
          "base_uri": "https://localhost:8080/",
          "height": 36
        },
        "id": "STuT2IBbm_lp",
        "outputId": "d57b3408-092f-4d8e-fb0c-27895e3e2e53"
      },
      "execution_count": 3,
      "outputs": [
        {
          "output_type": "execute_result",
          "data": {
            "text/plain": [
              "'\\nimport keyword\\n\\n# Print all the keywords\\nprint(\"Python Keywords:\")\\nfor kw in keyword.kwlist:\\n    print(kw)\\n\\n'"
            ],
            "application/vnd.google.colaboratory.intrinsic+json": {
              "type": "string"
            }
          },
          "metadata": {},
          "execution_count": 3
        }
      ]
    },
    {
      "cell_type": "code",
      "source": [
        "# Write a program that checks if a given word is a Python keyword\n",
        "'''\n",
        "def is_keyword(word):\n",
        "    return keyword.iskeyword(word)\n",
        "\n",
        "\n",
        "word = input(\"Enter a word: \")\n",
        "\n",
        "\n",
        "if is_keyword(word):\n",
        "    print(f\"'{word}' is a Python keyword.\")\n",
        "else:\n",
        "    print(f\"'{word}' is not a Python keyword.\")\n",
        "\n",
        "'''"
      ],
      "metadata": {
        "colab": {
          "base_uri": "https://localhost:8080/",
          "height": 54
        },
        "id": "8pTgFG2zncJI",
        "outputId": "f44cc64e-b48e-46ad-f3c7-bf9f471e831d"
      },
      "execution_count": 4,
      "outputs": [
        {
          "output_type": "execute_result",
          "data": {
            "text/plain": [
              "'\\ndef is_keyword(word):\\n    return keyword.iskeyword(word)\\n\\n\\nword = input(\"Enter a word: \")\\n\\n\\nif is_keyword(word):\\n    print(f\"\\'{word}\\' is a Python keyword.\")\\nelse:\\n    print(f\"\\'{word}\\' is not a Python keyword.\")\\n\\n'"
            ],
            "application/vnd.google.colaboratory.intrinsic+json": {
              "type": "string"
            }
          },
          "metadata": {},
          "execution_count": 4
        }
      ]
    },
    {
      "cell_type": "code",
      "source": [
        "# Create a list and tuple in Python, and demonstrate how attempting to change an element works differently\n",
        "for each\n",
        "'''\n",
        "my_list = [1, 2, 3]\n",
        "\n",
        "\n",
        "my_list[0] = 10  # This is allowed\n",
        "print(my_list)  # Output: [10, 2, 3]\n",
        "\n",
        "'''\n",
        "\n",
        "'''\n",
        "my_tuple = (1, 2, 3)\n",
        "\n",
        "\n",
        "try:\n",
        "    my_tuple[0] = 10  # This will raise an error\n",
        "except TypeError as e:\n",
        "    print(e)  # Output: 'tuple' object does not support item assignment\n",
        "\n",
        "'''"
      ],
      "metadata": {
        "colab": {
          "base_uri": "https://localhost:8080/",
          "height": 110
        },
        "id": "s8lyJiCen5h4",
        "outputId": "3a4efcb8-ef68-47d2-b348-b54828586e63"
      },
      "execution_count": 5,
      "outputs": [
        {
          "output_type": "error",
          "ename": "SyntaxError",
          "evalue": "invalid syntax (<ipython-input-5-b88e2b7e7877>, line 2)",
          "traceback": [
            "\u001b[0;36m  File \u001b[0;32m\"<ipython-input-5-b88e2b7e7877>\"\u001b[0;36m, line \u001b[0;32m2\u001b[0m\n\u001b[0;31m    for each\u001b[0m\n\u001b[0m            ^\u001b[0m\n\u001b[0;31mSyntaxError\u001b[0m\u001b[0;31m:\u001b[0m invalid syntax\n"
          ]
        }
      ]
    },
    {
      "cell_type": "code",
      "source": [
        "#Write a function to demonstrate the behavior of mutable and immutable arguments\n",
        "'''\n",
        "def modify_elements(mutable_list, immutable_tuple):\n",
        "    # Modify the mutable list\n",
        "    mutable_list.append(4)\n",
        "    print(\"Inside function, modified list:\", mutable_list)\n",
        "\n",
        "    # Attempt to modify the immutable tuple\n",
        "    try:\n",
        "        immutable_tuple[0] = 10\n",
        "    except TypeError as e:\n",
        "        print(\"Inside function, error modifying tuple:\", e)\n",
        "\n",
        "# Create a list (mutable) and a tuple (immutable)\n",
        "my_list = [1, 2, 3]\n",
        "my_tuple = (1, 2, 3)\n",
        "\n",
        "# Call the function with the list and tuple\n",
        "modify_elements(my_list, my_tuple)\n",
        "\n",
        "# Print the list and tuple after the function call\n",
        "print(\"Outside function, list:\", my_list)\n",
        "print(\"Outside function, tuple:\", my_tuple)\n",
        "\n",
        "'''"
      ],
      "metadata": {
        "colab": {
          "base_uri": "https://localhost:8080/",
          "height": 90
        },
        "id": "fjTs3yA_obPW",
        "outputId": "2200e13a-40c6-4313-a2b9-b30215cb9721"
      },
      "execution_count": 6,
      "outputs": [
        {
          "output_type": "execute_result",
          "data": {
            "text/plain": [
              "'\\ndef modify_elements(mutable_list, immutable_tuple):\\n    # Modify the mutable list\\n    mutable_list.append(4)\\n    print(\"Inside function, modified list:\", mutable_list)\\n\\n    # Attempt to modify the immutable tuple\\n    try:\\n        immutable_tuple[0] = 10\\n    except TypeError as e:\\n        print(\"Inside function, error modifying tuple:\", e)\\n\\n# Create a list (mutable) and a tuple (immutable)\\nmy_list = [1, 2, 3]\\nmy_tuple = (1, 2, 3)\\n\\n# Call the function with the list and tuple\\nmodify_elements(my_list, my_tuple)\\n\\n# Print the list and tuple after the function call\\nprint(\"Outside function, list:\", my_list)\\nprint(\"Outside function, tuple:\", my_tuple)\\n\\n'"
            ],
            "application/vnd.google.colaboratory.intrinsic+json": {
              "type": "string"
            }
          },
          "metadata": {},
          "execution_count": 6
        }
      ]
    },
    {
      "cell_type": "code",
      "source": [
        "# Write a function to demonstrate the behavior of mutable and immutable arguments\n",
        "'''\n",
        "def modify_elements(mutable_list, immutable_tuple):\n",
        "\n",
        "    mutable_list.append(4)\n",
        "    print(\"Inside function, modified list:\", mutable_list)\n",
        "\n",
        "\n",
        "    try:\n",
        "        immutable_tuple[0] = 10\n",
        "    except TypeError as e:\n",
        "        print(\"Inside function, error modifying tuple:\", e)\n",
        "\n",
        "\n",
        "my_list = [1, 2, 3]\n",
        "my_tuple = (1, 2, 3)\n",
        "\n",
        "\n",
        "modify_elements(my_list, my_tuple)\n",
        "print(\"Outside function, list:\", my_list)\n",
        "print(\"Outside function, tuple:\", my_tuple)\n",
        "\n",
        "'''"
      ],
      "metadata": {
        "colab": {
          "base_uri": "https://localhost:8080/",
          "height": 72
        },
        "id": "8-4AbPYBoskb",
        "outputId": "9e4eecfd-e4aa-4c2e-8529-b4c9f772af4b"
      },
      "execution_count": 7,
      "outputs": [
        {
          "output_type": "execute_result",
          "data": {
            "text/plain": [
              "'\\ndef modify_elements(mutable_list, immutable_tuple):\\n    \\n    mutable_list.append(4)\\n    print(\"Inside function, modified list:\", mutable_list)\\n\\n   \\n    try:\\n        immutable_tuple[0] = 10\\n    except TypeError as e:\\n        print(\"Inside function, error modifying tuple:\", e)\\n\\n\\nmy_list = [1, 2, 3]\\nmy_tuple = (1, 2, 3)\\n\\n\\nmodify_elements(my_list, my_tuple)\\nprint(\"Outside function, list:\", my_list)\\nprint(\"Outside function, tuple:\", my_tuple)\\n\\n'"
            ],
            "application/vnd.google.colaboratory.intrinsic+json": {
              "type": "string"
            }
          },
          "metadata": {},
          "execution_count": 7
        }
      ]
    },
    {
      "cell_type": "code",
      "source": [
        "#Write a program to demonstrate the use of logical operators\n",
        "'''\n",
        "\n",
        "a = True\n",
        "b = False\n",
        "\n",
        "print(\"a and b:\", a and b)  # Output: False\n",
        "\n",
        "print(\"a or b:\", a or b)  # Output: True\n",
        "\n",
        "print(\"not a:\", not a)  # Output: False\n",
        "print(\"not b:\", not b)  # Output: True\n",
        "\n",
        "'''"
      ],
      "metadata": {
        "colab": {
          "base_uri": "https://localhost:8080/",
          "height": 54
        },
        "id": "9TG2C7gao9g9",
        "outputId": "da5f82b3-388a-4efb-f1db-60b75429f739"
      },
      "execution_count": 8,
      "outputs": [
        {
          "output_type": "execute_result",
          "data": {
            "text/plain": [
              "'\\n\\na = True\\nb = False\\n\\nprint(\"a and b:\", a and b)  # Output: False\\n\\nprint(\"a or b:\", a or b)  # Output: True\\n\\nprint(\"not a:\", not a)  # Output: False\\nprint(\"not b:\", not b)  # Output: True\\n\\n'"
            ],
            "application/vnd.google.colaboratory.intrinsic+json": {
              "type": "string"
            }
          },
          "metadata": {},
          "execution_count": 8
        }
      ]
    },
    {
      "cell_type": "code",
      "source": [
        "#Write a Python program to convert user input from string to integer, float, and boolean types\n",
        "'''\n",
        "def convert_input(user_input):\n",
        "    try:\n",
        "        int_value = int(user_input)\n",
        "    except ValueError:\n",
        "        int_value = None\n",
        "\n",
        "    try:\n",
        "        float_value = float(user_input)\n",
        "    except ValueError:\n",
        "        float_value = None\n",
        "\n",
        "    bool_value = user_input.lower() in ['true', '1', 'yes', 'y']\n",
        "\n",
        "    return int_value, float_value, bool_value\n",
        "\n",
        "user_input = input(\"Enter a value: \")\n",
        "\n",
        "int_value, float_value, bool_value = convert_input(user_input)\n",
        "\n",
        "print(\"Integer:\", int_value)\n",
        "print(\"Float:\", float_value)\n",
        "print(\"Boolean:\", bool_value)\n",
        "\n",
        "'''"
      ],
      "metadata": {
        "colab": {
          "base_uri": "https://localhost:8080/",
          "height": 90
        },
        "id": "0e17GAKopU0x",
        "outputId": "b887e9f3-4244-46a9-cdf9-ec92ab39f9e1"
      },
      "execution_count": 9,
      "outputs": [
        {
          "output_type": "execute_result",
          "data": {
            "text/plain": [
              "'\\ndef convert_input(user_input):\\n    try:\\n        int_value = int(user_input)\\n    except ValueError:\\n        int_value = None\\n\\n    try:\\n        float_value = float(user_input)\\n    except ValueError:\\n        float_value = None\\n\\n    bool_value = user_input.lower() in [\\'true\\', \\'1\\', \\'yes\\', \\'y\\']\\n\\n    return int_value, float_value, bool_value\\n\\nuser_input = input(\"Enter a value: \")\\n\\nint_value, float_value, bool_value = convert_input(user_input)\\n\\nprint(\"Integer:\", int_value)\\nprint(\"Float:\", float_value)\\nprint(\"Boolean:\", bool_value)\\n\\n'"
            ],
            "application/vnd.google.colaboratory.intrinsic+json": {
              "type": "string"
            }
          },
          "metadata": {},
          "execution_count": 9
        }
      ]
    },
    {
      "cell_type": "code",
      "source": [
        "# Write code to demonstrate type casting with list elements\n",
        "'''\n",
        "str_list = [\"1\", \"2\", \"3\", \"4.5\", \"True\"]\n",
        "\n",
        "int_list = [int(x) for x in str_list if x.isdigit()]\n",
        "float_list = [float(x) for x in str_list if x.replace('.', '', 1).isdigit()]\n",
        "bool_list = [x.lower() in ['true', '1', 'yes', 'y'] for x in str_list]\n",
        "\n",
        "print(\"Original list:\", str_list)\n",
        "print(\"Integer list:\", int_list)\n",
        "print(\"Float list:\", float_list)\n",
        "print(\"Boolean list:\", bool_list)\n",
        "\n",
        "'''"
      ],
      "metadata": {
        "colab": {
          "base_uri": "https://localhost:8080/",
          "height": 72
        },
        "id": "jygQ87SzpnFM",
        "outputId": "05ff9566-792e-4925-ba70-2234d825926a"
      },
      "execution_count": 10,
      "outputs": [
        {
          "output_type": "execute_result",
          "data": {
            "text/plain": [
              "'\\nstr_list = [\"1\", \"2\", \"3\", \"4.5\", \"True\"]\\n\\nint_list = [int(x) for x in str_list if x.isdigit()]\\nfloat_list = [float(x) for x in str_list if x.replace(\\'.\\', \\'\\', 1).isdigit()]\\nbool_list = [x.lower() in [\\'true\\', \\'1\\', \\'yes\\', \\'y\\'] for x in str_list]\\n\\nprint(\"Original list:\", str_list)\\nprint(\"Integer list:\", int_list)\\nprint(\"Float list:\", float_list)\\nprint(\"Boolean list:\", bool_list)\\n\\n'"
            ],
            "application/vnd.google.colaboratory.intrinsic+json": {
              "type": "string"
            }
          },
          "metadata": {},
          "execution_count": 10
        }
      ]
    },
    {
      "cell_type": "code",
      "source": [
        "#Write a program that checks if a number is positive, negative, or zero\n",
        "'''\n",
        "\n",
        "def check_number(num):\n",
        "    if num > 0:\n",
        "        return \"Positive\"\n",
        "    elif num < 0:\n",
        "        return \"Negative\"\n",
        "    else:\n",
        "        return \"Zero\"\n",
        "\n",
        "number = float(input(\"Enter a number: \"))\n",
        "\n",
        "result = check_number(number)\n",
        "print(f\"The number is {result}.\")\n",
        "\n",
        "'''"
      ],
      "metadata": {
        "colab": {
          "base_uri": "https://localhost:8080/",
          "height": 54
        },
        "id": "Sk2eGLyOpzsE",
        "outputId": "d02524ca-5e4c-4d79-eb99-67d432ca1de9"
      },
      "execution_count": 11,
      "outputs": [
        {
          "output_type": "execute_result",
          "data": {
            "text/plain": [
              "'\\n\\ndef check_number(num):\\n    if num > 0:\\n        return \"Positive\"\\n    elif num < 0:\\n        return \"Negative\"\\n    else:\\n        return \"Zero\"\\n\\nnumber = float(input(\"Enter a number: \"))\\n\\nresult = check_number(number)\\nprint(f\"The number is {result}.\")\\n\\n'"
            ],
            "application/vnd.google.colaboratory.intrinsic+json": {
              "type": "string"
            }
          },
          "metadata": {},
          "execution_count": 11
        }
      ]
    },
    {
      "cell_type": "code",
      "source": [
        "# Write a for loop to print numbers from 1 to 10\n",
        "'''\n",
        "for i in range(1, 11):\n",
        "    print(i)\n",
        "\n",
        "'''"
      ],
      "metadata": {
        "colab": {
          "base_uri": "https://localhost:8080/",
          "height": 36
        },
        "id": "BDJJtbL0qDge",
        "outputId": "00899fc8-d55c-44e6-99bd-5ec2e21292c1"
      },
      "execution_count": 12,
      "outputs": [
        {
          "output_type": "execute_result",
          "data": {
            "text/plain": [
              "'\\nfor i in range(1, 11):\\n    print(i)\\n\\n'"
            ],
            "application/vnd.google.colaboratory.intrinsic+json": {
              "type": "string"
            }
          },
          "metadata": {},
          "execution_count": 12
        }
      ]
    },
    {
      "cell_type": "code",
      "source": [
        "#Write a Python program to find the sum of all even numbers between 1 and 50\n",
        "'''\n",
        "\n",
        "sum_even = 0\n",
        "\n",
        "for num in range(1, 51):\n",
        "    if num % 2 == 0:\n",
        "        sum_even += num\n",
        "\n",
        "print(\"Sum of all even numbers between 1 and 50:\", sum_even)\n",
        "\n",
        "'''"
      ],
      "metadata": {
        "colab": {
          "base_uri": "https://localhost:8080/",
          "height": 36
        },
        "id": "XOQ8f4B3qQOh",
        "outputId": "f93c9f98-6058-43f1-c0fc-d2f47cfd544b"
      },
      "execution_count": 13,
      "outputs": [
        {
          "output_type": "execute_result",
          "data": {
            "text/plain": [
              "'\\n\\nsum_even = 0\\n\\nfor num in range(1, 51):\\n    if num % 2 == 0:\\n        sum_even += num\\n\\nprint(\"Sum of all even numbers between 1 and 50:\", sum_even)\\n\\n'"
            ],
            "application/vnd.google.colaboratory.intrinsic+json": {
              "type": "string"
            }
          },
          "metadata": {},
          "execution_count": 13
        }
      ]
    },
    {
      "cell_type": "code",
      "source": [
        "#Write a program to reverse a string using a while loop\n",
        "'''\n",
        "\n",
        "def reverse_string(s):\n",
        "    reversed_str = \"\"\n",
        "    index = len(s) - 1\n",
        "    while index >= 0:\n",
        "        reversed_str += s[index]\n",
        "        index -= 1\n",
        "    return reversed_str\n",
        "\n",
        "\n",
        "input_str = input(\"Enter a string: \")\n",
        "\n",
        "reversed_str = reverse_string(input_str)\n",
        "\n",
        "print(\"Reversed string:\", reversed_str)\n",
        "\n",
        "'''"
      ],
      "metadata": {
        "colab": {
          "base_uri": "https://localhost:8080/",
          "height": 54
        },
        "id": "JqYHa1-Qqed-",
        "outputId": "bbb7cbdb-b2c7-4688-9384-4bdcf788df5b"
      },
      "execution_count": 14,
      "outputs": [
        {
          "output_type": "execute_result",
          "data": {
            "text/plain": [
              "'\\n\\ndef reverse_string(s):\\n    reversed_str = \"\"\\n    index = len(s) - 1\\n    while index >= 0:\\n        reversed_str += s[index]\\n        index -= 1\\n    return reversed_str\\n\\n\\ninput_str = input(\"Enter a string: \")\\n\\nreversed_str = reverse_string(input_str)\\n\\nprint(\"Reversed string:\", reversed_str)\\n\\n'"
            ],
            "application/vnd.google.colaboratory.intrinsic+json": {
              "type": "string"
            }
          },
          "metadata": {},
          "execution_count": 14
        }
      ]
    },
    {
      "cell_type": "code",
      "source": [
        "#Write a Python program to calculate the factorial of a number provided by the user using a while loop\n",
        "'''\n",
        "def factorial(n):\n",
        "    result = 1\n",
        "    while n > 0:\n",
        "        result *= n\n",
        "        n -= 1\n",
        "    return result\n",
        "\n",
        "number = int(input(\"Enter a number: \"))\n",
        "\n",
        "if number < 0:\n",
        "    print(\"Factorial is not defined for negative numbers.\")\n",
        "else:\n",
        "    print(f\"The factorial of {number} is {factorial(number)}.\")\n",
        "\n",
        "'''"
      ],
      "metadata": {
        "colab": {
          "base_uri": "https://localhost:8080/",
          "height": 54
        },
        "id": "BNMO1v_dqqcJ",
        "outputId": "74b75bed-45d4-4ec7-f829-75e268e55099"
      },
      "execution_count": 15,
      "outputs": [
        {
          "output_type": "execute_result",
          "data": {
            "text/plain": [
              "'\\ndef factorial(n):\\n    result = 1\\n    while n > 0:\\n        result *= n\\n        n -= 1\\n    return result\\n\\nnumber = int(input(\"Enter a number: \"))\\n\\nif number < 0:\\n    print(\"Factorial is not defined for negative numbers.\")\\nelse:\\n    print(f\"The factorial of {number} is {factorial(number)}.\")\\n\\n'"
            ],
            "application/vnd.google.colaboratory.intrinsic+json": {
              "type": "string"
            }
          },
          "metadata": {},
          "execution_count": 15
        }
      ]
    }
  ]
}